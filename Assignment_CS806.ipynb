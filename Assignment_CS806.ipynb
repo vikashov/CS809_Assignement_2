{
 "cells": [
  {
   "cell_type": "markdown",
   "metadata": {},
   "source": [
    "<center> \n",
    "<h1>Assignement CS809</h1>\n",
    "</center>\n",
    "<center><h3>PCA/SVD on a sample dataset </h3></center>\n",
    "Take any dataset (after reading their descriptions, make sure it has multiple variables) from \n",
    "<a href=\"https://www2.stetson.edu/~jrasp/data.htm \">Dr. John Rasp Statistic website </a> </br>\n",
    "<br>a) Find the Covariance matrix and Correlation matrix of this data matrix </br>\n",
    "<br>b) Perform PCA/SVD, choose appropriate number(justify by a scree plot) of dimensions/principal components/singular values and find the new data matrix in terms of these dimensions.</br>\n",
    "<br>c)Plot the scatter plot of this data along the first two dimensions (or three if it is possible)</br>\n",
    "\n"
   ]
  },
  {
   "cell_type": "code",
   "execution_count": 47,
   "metadata": {},
   "outputs": [],
   "source": [
    "import pandas as pd\n",
    "import numpy as np\n",
    "import matplotlib.pyplot as plt\n",
    "import os\n",
    "import seaborn as sn\n",
    "from sklearn.preprocessing import StandardScaler\n",
    "from sklearn.decomposition import PCA\n",
    "from mpl_toolkits import mplot3d "
   ]
  },
  {
   "cell_type": "markdown",
   "metadata": {},
   "source": [
    "<h4> Dataset: Poverty Statistics</h4>\n",
    "Data for 97 countries, on birth and death rates, infant mortality rates, life expectancies, and per capita GDP. Obtained from the Journal of Statistics Education online data archive. Original source was 1990 United Nations data."
   ]
  },
  {
   "cell_type": "markdown",
   "metadata": {},
   "source": [
    "### Covariance and Correlation matrix"
   ]
  },
  {
   "cell_type": "code",
   "execution_count": 2,
   "metadata": {},
   "outputs": [],
   "source": [
    "# Changing working directory\n",
    "os.chdir('E:\\Vikash\\stats')"
   ]
  },
  {
   "cell_type": "code",
   "execution_count": 3,
   "metadata": {},
   "outputs": [
    {
     "data": {
      "text/html": [
       "<div>\n",
       "<style scoped>\n",
       "    .dataframe tbody tr th:only-of-type {\n",
       "        vertical-align: middle;\n",
       "    }\n",
       "\n",
       "    .dataframe tbody tr th {\n",
       "        vertical-align: top;\n",
       "    }\n",
       "\n",
       "    .dataframe thead th {\n",
       "        text-align: right;\n",
       "    }\n",
       "</style>\n",
       "<table border=\"1\" class=\"dataframe\">\n",
       "  <thead>\n",
       "    <tr style=\"text-align: right;\">\n",
       "      <th></th>\n",
       "      <th>BirthRt</th>\n",
       "      <th>DeathRt</th>\n",
       "      <th>InfMort</th>\n",
       "      <th>LExpM</th>\n",
       "      <th>LExpF</th>\n",
       "      <th>GNP</th>\n",
       "      <th>Region</th>\n",
       "      <th>Country</th>\n",
       "    </tr>\n",
       "  </thead>\n",
       "  <tbody>\n",
       "    <tr>\n",
       "      <th>0</th>\n",
       "      <td>24.7</td>\n",
       "      <td>5.7</td>\n",
       "      <td>30.8</td>\n",
       "      <td>69.6</td>\n",
       "      <td>75.5</td>\n",
       "      <td>600</td>\n",
       "      <td>1</td>\n",
       "      <td>Albania</td>\n",
       "    </tr>\n",
       "    <tr>\n",
       "      <th>1</th>\n",
       "      <td>12.5</td>\n",
       "      <td>11.9</td>\n",
       "      <td>14.4</td>\n",
       "      <td>68.3</td>\n",
       "      <td>74.7</td>\n",
       "      <td>2250</td>\n",
       "      <td>1</td>\n",
       "      <td>Bulgaria</td>\n",
       "    </tr>\n",
       "    <tr>\n",
       "      <th>2</th>\n",
       "      <td>13.4</td>\n",
       "      <td>11.7</td>\n",
       "      <td>11.3</td>\n",
       "      <td>71.8</td>\n",
       "      <td>77.7</td>\n",
       "      <td>2980</td>\n",
       "      <td>1</td>\n",
       "      <td>Czechoslovakia</td>\n",
       "    </tr>\n",
       "    <tr>\n",
       "      <th>3</th>\n",
       "      <td>12.0</td>\n",
       "      <td>12.4</td>\n",
       "      <td>7.6</td>\n",
       "      <td>69.8</td>\n",
       "      <td>75.9</td>\n",
       "      <td>*</td>\n",
       "      <td>1</td>\n",
       "      <td>Former_E._Germany</td>\n",
       "    </tr>\n",
       "    <tr>\n",
       "      <th>4</th>\n",
       "      <td>11.6</td>\n",
       "      <td>13.4</td>\n",
       "      <td>14.8</td>\n",
       "      <td>65.4</td>\n",
       "      <td>73.8</td>\n",
       "      <td>2780</td>\n",
       "      <td>1</td>\n",
       "      <td>Hungary</td>\n",
       "    </tr>\n",
       "    <tr>\n",
       "      <th>...</th>\n",
       "      <td>...</td>\n",
       "      <td>...</td>\n",
       "      <td>...</td>\n",
       "      <td>...</td>\n",
       "      <td>...</td>\n",
       "      <td>...</td>\n",
       "      <td>...</td>\n",
       "      <td>...</td>\n",
       "    </tr>\n",
       "    <tr>\n",
       "      <th>92</th>\n",
       "      <td>52.2</td>\n",
       "      <td>15.6</td>\n",
       "      <td>103.0</td>\n",
       "      <td>49.9</td>\n",
       "      <td>52.7</td>\n",
       "      <td>220</td>\n",
       "      <td>6</td>\n",
       "      <td>Uganda</td>\n",
       "    </tr>\n",
       "    <tr>\n",
       "      <th>93</th>\n",
       "      <td>50.5</td>\n",
       "      <td>14.0</td>\n",
       "      <td>106.0</td>\n",
       "      <td>51.3</td>\n",
       "      <td>54.7</td>\n",
       "      <td>110</td>\n",
       "      <td>6</td>\n",
       "      <td>Tanzania</td>\n",
       "    </tr>\n",
       "    <tr>\n",
       "      <th>94</th>\n",
       "      <td>45.6</td>\n",
       "      <td>14.2</td>\n",
       "      <td>83.0</td>\n",
       "      <td>50.3</td>\n",
       "      <td>53.7</td>\n",
       "      <td>220</td>\n",
       "      <td>6</td>\n",
       "      <td>Zaire</td>\n",
       "    </tr>\n",
       "    <tr>\n",
       "      <th>95</th>\n",
       "      <td>51.1</td>\n",
       "      <td>13.7</td>\n",
       "      <td>80.0</td>\n",
       "      <td>50.4</td>\n",
       "      <td>52.5</td>\n",
       "      <td>420</td>\n",
       "      <td>6</td>\n",
       "      <td>Zambia</td>\n",
       "    </tr>\n",
       "    <tr>\n",
       "      <th>96</th>\n",
       "      <td>41.7</td>\n",
       "      <td>10.3</td>\n",
       "      <td>66.0</td>\n",
       "      <td>56.5</td>\n",
       "      <td>60.1</td>\n",
       "      <td>640</td>\n",
       "      <td>6</td>\n",
       "      <td>Zimbabwe</td>\n",
       "    </tr>\n",
       "  </tbody>\n",
       "</table>\n",
       "<p>97 rows × 8 columns</p>\n",
       "</div>"
      ],
      "text/plain": [
       "    BirthRt  DeathRt  InfMort  LExpM  LExpF   GNP  Region            Country\n",
       "0      24.7      5.7     30.8   69.6   75.5   600       1            Albania\n",
       "1      12.5     11.9     14.4   68.3   74.7  2250       1           Bulgaria\n",
       "2      13.4     11.7     11.3   71.8   77.7  2980       1     Czechoslovakia\n",
       "3      12.0     12.4      7.6   69.8   75.9     *       1  Former_E._Germany\n",
       "4      11.6     13.4     14.8   65.4   73.8  2780       1            Hungary\n",
       "..      ...      ...      ...    ...    ...   ...     ...                ...\n",
       "92     52.2     15.6    103.0   49.9   52.7   220       6             Uganda\n",
       "93     50.5     14.0    106.0   51.3   54.7   110       6           Tanzania\n",
       "94     45.6     14.2     83.0   50.3   53.7   220       6              Zaire\n",
       "95     51.1     13.7     80.0   50.4   52.5   420       6             Zambia\n",
       "96     41.7     10.3     66.0   56.5   60.1   640       6           Zimbabwe\n",
       "\n",
       "[97 rows x 8 columns]"
      ]
     },
     "execution_count": 3,
     "metadata": {},
     "output_type": "execute_result"
    }
   ],
   "source": [
    "# reading data\n",
    "\n",
    "df = pd.read_excel('E:\\Vikash\\stats\\Poverty.xls')\n",
    "df"
   ]
  },
  {
   "cell_type": "code",
   "execution_count": 92,
   "metadata": {},
   "outputs": [
    {
     "data": {
      "text/html": [
       "<div>\n",
       "<style scoped>\n",
       "    .dataframe tbody tr th:only-of-type {\n",
       "        vertical-align: middle;\n",
       "    }\n",
       "\n",
       "    .dataframe tbody tr th {\n",
       "        vertical-align: top;\n",
       "    }\n",
       "\n",
       "    .dataframe thead th {\n",
       "        text-align: right;\n",
       "    }\n",
       "</style>\n",
       "<table border=\"1\" class=\"dataframe\">\n",
       "  <thead>\n",
       "    <tr style=\"text-align: right;\">\n",
       "      <th></th>\n",
       "      <th>BirthRt</th>\n",
       "      <th>DeathRt</th>\n",
       "      <th>InfMort</th>\n",
       "      <th>LExpM</th>\n",
       "      <th>LExpF</th>\n",
       "      <th>Region</th>\n",
       "    </tr>\n",
       "  </thead>\n",
       "  <tbody>\n",
       "    <tr>\n",
       "      <th>0</th>\n",
       "      <td>24.7</td>\n",
       "      <td>5.7</td>\n",
       "      <td>30.8</td>\n",
       "      <td>69.6</td>\n",
       "      <td>75.5</td>\n",
       "      <td>1</td>\n",
       "    </tr>\n",
       "    <tr>\n",
       "      <th>1</th>\n",
       "      <td>12.5</td>\n",
       "      <td>11.9</td>\n",
       "      <td>14.4</td>\n",
       "      <td>68.3</td>\n",
       "      <td>74.7</td>\n",
       "      <td>1</td>\n",
       "    </tr>\n",
       "    <tr>\n",
       "      <th>2</th>\n",
       "      <td>13.4</td>\n",
       "      <td>11.7</td>\n",
       "      <td>11.3</td>\n",
       "      <td>71.8</td>\n",
       "      <td>77.7</td>\n",
       "      <td>1</td>\n",
       "    </tr>\n",
       "    <tr>\n",
       "      <th>3</th>\n",
       "      <td>12.0</td>\n",
       "      <td>12.4</td>\n",
       "      <td>7.6</td>\n",
       "      <td>69.8</td>\n",
       "      <td>75.9</td>\n",
       "      <td>1</td>\n",
       "    </tr>\n",
       "    <tr>\n",
       "      <th>4</th>\n",
       "      <td>11.6</td>\n",
       "      <td>13.4</td>\n",
       "      <td>14.8</td>\n",
       "      <td>65.4</td>\n",
       "      <td>73.8</td>\n",
       "      <td>1</td>\n",
       "    </tr>\n",
       "  </tbody>\n",
       "</table>\n",
       "</div>"
      ],
      "text/plain": [
       "   BirthRt  DeathRt  InfMort  LExpM  LExpF  Region\n",
       "0     24.7      5.7     30.8   69.6   75.5       1\n",
       "1     12.5     11.9     14.4   68.3   74.7       1\n",
       "2     13.4     11.7     11.3   71.8   77.7       1\n",
       "3     12.0     12.4      7.6   69.8   75.9       1\n",
       "4     11.6     13.4     14.8   65.4   73.8       1"
      ]
     },
     "execution_count": 92,
     "metadata": {},
     "output_type": "execute_result"
    }
   ],
   "source": [
    "# Deleting unnecessary column \n",
    "df1 = df.drop(['GNP', 'Country'], axis = 1)\n",
    "df1.head()"
   ]
  },
  {
   "cell_type": "code",
   "execution_count": 99,
   "metadata": {},
   "outputs": [],
   "source": [
    "#splitting dataset\n",
    "\n",
    "x = df1.iloc[:,0:5].values\n",
    "y = df1.iloc[:,5].values\n"
   ]
  },
  {
   "cell_type": "code",
   "execution_count": 102,
   "metadata": {},
   "outputs": [
    {
     "data": {
      "text/plain": [
       "(97, 5)"
      ]
     },
     "execution_count": 102,
     "metadata": {},
     "output_type": "execute_result"
    }
   ],
   "source": [
    "# Standardize the Data\n",
    "\n",
    "x1 = StandardScaler().fit_transform(x)\n",
    "x1.shape"
   ]
  },
  {
   "cell_type": "code",
   "execution_count": 104,
   "metadata": {},
   "outputs": [
    {
     "data": {
      "text/plain": [
       "array([[ 1.01041667,  0.4912611 ,  0.8672946 , -0.87554517, -0.90373083],\n",
       "       [ 0.4912611 ,  1.01041667,  0.66144222, -0.74110688, -0.7002522 ],\n",
       "       [ 0.8672946 ,  0.66144222,  1.01041667, -0.94659717, -0.96530323],\n",
       "       [-0.87554517, -0.74110688, -0.94659717,  1.01041667,  0.9927928 ],\n",
       "       [-0.90373083, -0.7002522 , -0.96530323,  0.9927928 ,  1.01041667]])"
      ]
     },
     "execution_count": 104,
     "metadata": {},
     "output_type": "execute_result"
    }
   ],
   "source": [
    "# Covariance matrix\n",
    "covMatrix = np.cov(x1.T)\n",
    "covMatrix\n"
   ]
  },
  {
   "cell_type": "code",
   "execution_count": 105,
   "metadata": {},
   "outputs": [
    {
     "data": {
      "text/plain": [
       "array([[ 1.        ,  0.48619655,  0.85835342, -0.86651894, -0.89441402],\n",
       "       [ 0.48619655,  1.        ,  0.65462322, -0.73346661, -0.69303311],\n",
       "       [ 0.85835342,  0.65462322,  1.        , -0.93683844, -0.95535165],\n",
       "       [-0.86651894, -0.73346661, -0.93683844,  1.        ,  0.98255782],\n",
       "       [-0.89441402, -0.69303311, -0.95535165,  0.98255782,  1.        ]])"
      ]
     },
     "execution_count": 105,
     "metadata": {},
     "output_type": "execute_result"
    }
   ],
   "source": [
    "# Correlation matrix\n",
    "corMatrix = np.corrcoef(x1.T)\n",
    "corMatrix"
   ]
  },
  {
   "cell_type": "markdown",
   "metadata": {},
   "source": [
    "### Eigen Value"
   ]
  },
  {
   "cell_type": "code",
   "execution_count": 112,
   "metadata": {},
   "outputs": [
    {
     "data": {
      "text/plain": [
       "array([4.30265372, 0.55521092, 0.12186729, 0.05886074, 0.01349066])"
      ]
     },
     "execution_count": 112,
     "metadata": {},
     "output_type": "execute_result"
    }
   ],
   "source": [
    "eig_vals,eig_vecs = np.linalg.eig(covMatrix) \n",
    "eig_vals"
   ]
  },
  {
   "cell_type": "markdown",
   "metadata": {},
   "source": [
    "### Explained Variance\n",
    "<p> Explained variance helps us to choose number of required component. </p>"
   ]
  },
  {
   "cell_type": "code",
   "execution_count": 113,
   "metadata": {},
   "outputs": [],
   "source": [
    "# Make a list of (eigenvalue, eigenvector) tuples\n",
    "eig_pairs = [(np.abs(eig_vals[i]), eig_vecs[:,i]) for i in range(len(eig_vals))]\n",
    "\n",
    "# Sort the (eigenvalue, eigenvector) tuples from high to low\n",
    "eig_pairs.sort(key=lambda x: x[0], reverse=True)\n"
   ]
  },
  {
   "cell_type": "code",
   "execution_count": 114,
   "metadata": {},
   "outputs": [],
   "source": [
    "#finding variance explained\n",
    "total = sum(eig_vals)\n",
    "var_exp = [(i / total)*100 for i in sorted(eig_vals, reverse = True)]\n",
    "cum_var_exp = np.cumsum(var_exp)"
   ]
  },
  {
   "cell_type": "code",
   "execution_count": 117,
   "metadata": {
    "scrolled": true
   },
   "outputs": [
    {
     "data": {
      "image/png": "[encoded data removed]",
      "text/plain": [
       "<Figure size 432x288 with 1 Axes>"
      ]
     },
     "metadata": {},
     "output_type": "display_data"
    }
   ],
   "source": [
    "with plt.style.context('seaborn-whitegrid'):\n",
    "    plt.figure(figsize=(6, 4))\n",
    "\n",
    "    plt.bar(range(5), var_exp, alpha=0.5, align='center', label='individual explained variance')\n",
    "    plt.step(range(5), cum_var_exp, where='mid', label='cumulative explained variance')\n",
    "    plt.ylabel('Explained variance ratio')\n",
    "    plt.xlabel('Principal components')\n",
    "    plt.legend(loc='best')\n",
    "    plt.tight_layout()"
   ]
  },
  {
   "cell_type": "markdown",
   "metadata": {},
   "source": [
    "The plot above clearly shows that most of the variance (84% of the variance to be precise) can be explained by the first principal component alone."
   ]
  },
  {
   "cell_type": "markdown",
   "metadata": {},
   "source": [
    "<h6>The original data has 5 columns (BirthRt, DeathRt, InfMort, LExpM, LExpF). In this section, the code projects the original data which is 5 dimensional into 1 dimensions.</h6>"
   ]
  },
  {
   "cell_type": "code",
   "execution_count": 122,
   "metadata": {},
   "outputs": [],
   "source": [
    "pca = PCA(n_components=1)\n",
    "pc_comp = pca.fit_transform(x)\n",
    "pc_df = pd.DataFrame(data = pc_comp\n",
    "             , columns = ['PC1'])\n"
   ]
  },
  {
   "cell_type": "code",
   "execution_count": 125,
   "metadata": {},
   "outputs": [
    {
     "data": {
      "text/plain": [
       "Text(0, 0.5, 'PC1')"
      ]
     },
     "execution_count": 125,
     "metadata": {},
     "output_type": "execute_result"
    },
    {
     "data": {
      "image/png": "[encoded data removed]",
      "text/plain": [
       "<Figure size 432x288 with 1 Axes>"
      ]
     },
     "metadata": {
      "needs_background": "light"
     },
     "output_type": "display_data"
    }
   ],
   "source": [
    "plt.scatter(y,pc_df['PC1'])\n",
    "plt.xlabel('Region class')\n",
    "plt.ylabel('PC1')"
   ]
  },
  {
   "cell_type": "markdown",
   "metadata": {},
   "source": [
    "<h6>The original data has 5 columns (BirthRt, DeathRt, InfMort, LExpM, LExpF). In this section, the code projects the original data which is 5 dimensional into 2 dimensions.</h6>"
   ]
  },
  {
   "cell_type": "code",
   "execution_count": 126,
   "metadata": {},
   "outputs": [],
   "source": [
    "pca = PCA(n_components=2)\n",
    "pc_comp = pca.fit_transform(x)\n",
    "pc_df = pd.DataFrame(data = pc_comp\n",
    "             , columns = ['PC1','PC2'])"
   ]
  },
  {
   "cell_type": "code",
   "execution_count": 127,
   "metadata": {},
   "outputs": [],
   "source": [
    "x1 = pc_df['PC1']\n",
    "x2 = pc_df['PC2']"
   ]
  },
  {
   "cell_type": "code",
   "execution_count": 128,
   "metadata": {},
   "outputs": [
    {
     "data": {
      "text/plain": [
       "Text(0, 0.5, 'PC2')"
      ]
     },
     "execution_count": 128,
     "metadata": {},
     "output_type": "execute_result"
    },
    {
     "data": {
      "image/png": "[encoded data removed]",
      "text/plain": [
       "<Figure size 432x288 with 1 Axes>"
      ]
     },
     "metadata": {
      "needs_background": "light"
     },
     "output_type": "display_data"
    }
   ],
   "source": [
    "plt.scatter(x1,x2)\n",
    "plt.xlabel('PC1')\n",
    "plt.ylabel('PC2')"
   ]
  },
  {
   "cell_type": "markdown",
   "metadata": {},
   "source": [
    "<h6>The original data has 5 columns (BirthRt, DeathRt, InfMort, LExpM, LExpF). In this section, the code projects the original data which is 5 dimensional into 3 dimensions.</h6>"
   ]
  },
  {
   "cell_type": "code",
   "execution_count": 129,
   "metadata": {},
   "outputs": [],
   "source": [
    "pca = PCA(n_components=3)\n",
    "pc_comp = pca.fit_transform(x)\n",
    "pc_df = pd.DataFrame(data = pc_comp\n",
    "             , columns = ['PC1','PC2','PC3'])"
   ]
  },
  {
   "cell_type": "code",
   "execution_count": 131,
   "metadata": {},
   "outputs": [],
   "source": [
    "x1 = pc_df['PC1']\n",
    "x2 = pc_df['PC2']\n",
    "x3 = pc_df['PC3']"
   ]
  },
  {
   "cell_type": "code",
   "execution_count": 132,
   "metadata": {},
   "outputs": [
    {
     "data": {
      "image/png": "[encoded data removed]",
      "text/plain": [
       "<Figure size 720x504 with 1 Axes>"
      ]
     },
     "metadata": {
      "needs_background": "light"
     },
     "output_type": "display_data"
    }
   ],
   "source": [
    "# Creating figure \n",
    "fig = plt.figure(figsize = (10, 7)) \n",
    "ax = plt.axes(projection =\"3d\") \n",
    "  \n",
    "# Creating plot \n",
    "ax.scatter3D(x1, x2, x3, color = \"green\"); \n",
    "plt.show()"
   ]
  }
 ],
 "metadata": {
  "kernelspec": {
   "display_name": "Python 3",
   "language": "python",
   "name": "python3"
  },
  "language_info": {
   "codemirror_mode": {
    "name": "ipython",
    "version": 3
   },
   "file_extension": ".py",
   "mimetype": "text/x-python",
   "name": "python",
   "nbconvert_exporter": "python",
   "pygments_lexer": "ipython3",
   "version": "3.7.6"
  }
 },
 "nbformat": 4,
 "nbformat_minor": 4
}
